{
 "cells": [
  {
   "cell_type": "markdown",
   "metadata": {},
   "source": [
    "# Trees and Graphs"
   ]
  },
  {
   "cell_type": "markdown",
   "metadata": {},
   "source": [
    "## Trees\n",
    "We'll discuss trees first and then graphs, even though trees are really just a type of graph\n",
    "\n",
    "### Types of Trees\n",
    "\n",
    "A nice way to understand a tree is with a recursive explanation. A tree is a data structure composed of nodes.\n",
    "\n",
    "- Each tree has a root node.\n",
    "- The root node has zero or more child nodes.\n",
    "- Each child node has zero or more childe nodes, and so on.\n",
    "\n",
    "A tree cannot contain cycles. The nodes may or may not be in a particular order, they could have any data type as values, and they may or may not have links back to their parent nodes.\n",
    "\n",
    "A very simple class definition for `Node` is:"
   ]
  },
  {
   "cell_type": "code",
   "execution_count": 1,
   "metadata": {},
   "outputs": [],
   "source": [
    "class Node:\n",
    "    def __init__(self, name):\n",
    "        self.name = name\n",
    "        self.children = list()"
   ]
  },
  {
   "cell_type": "markdown",
   "metadata": {},
   "source": [
    "You might also have a `Tree` class to wrap this node."
   ]
  },
  {
   "cell_type": "code",
   "execution_count": 2,
   "metadata": {},
   "outputs": [],
   "source": [
    "class Tree:\n",
    "    def __init__(self, root):\n",
    "        self.root: Node = root"
   ]
  },
  {
   "cell_type": "markdown",
   "metadata": {},
   "source": [
    "#### Trees vs. Binary Trees\n",
    "\n",
    "A binary tree is a tree in which each node has up to two children. Not all trees are binary trees. For example, this tree is not a binary tree. You could call it a ternary tree.\n",
    "\n",
    "![png](trees_and_graphs_files/00_ternary_tree.png)\n",
    "\n",
    "There are occasions when you might have a tree that is not a binary tree. For example, suppose you were using a tree to represent a bunch of phone numbers. In this case, you might use a 10-ary tree, with each node having up to 10 children (one for each digit).\n",
    "\n",
    "A node is called a \"leaf\" node if it has no children."
   ]
  },
  {
   "cell_type": "markdown",
   "metadata": {},
   "source": [
    "#### Binary Tree vs Binary Search Tree\n",
    "\n",
    "A binary search tree is a binary tree in which every node fits a specific ordering property: **all left descendents <= n < all right descendents**. This must be true for each node n.\n",
    "\n",
    "Note that this inequality must be true for all of a node's descendents, not just its immediate children.\n",
    "\n",
    "A binary search tree:\n",
    "\n",
    "![png](trees_and_graphs_files/01_binary_search_tree.png)\n",
    "\n",
    "Not a binary search tree:\n",
    "\n",
    "![png](trees_and_graphs_files/02_not_binary_search_tree.png)\n",
    "\n",
    "A binary search tree imposes the condition that, for each node, its left descendents are less than or equal to the current node, which is less than the right descendents."
   ]
  },
  {
   "cell_type": "markdown",
   "metadata": {},
   "source": [
    "#### Balanced vs. Unbalanced\n",
    "\n",
    "While many trees are balanced, not all are. Note that balancing a tree does not mean the left and right subtrees are exactly the same size (like you see under \"perfect binary trees\" below).\n",
    "\n",
    "One way to think about it is that a \"balanced\" tree really means something more like \"not terribly imbalanced\". It's balanced enought to ensure `O(log n)` times for `insert` and `find`, but it's not necessarily as balanced as it could be."
   ]
  },
  {
   "cell_type": "markdown",
   "metadata": {},
   "source": [
    "#### Complete Binary Trees\n",
    "\n",
    "A complete binary tree is a binary tree in which every level of the tree is fully filled, except for perhaps the last level. To the extent that the last level is filled, it is filled left to right.\n",
    "\n",
    "Not a complete binary tree:\n",
    "\n",
    "![png](trees_and_graphs_files/03_not_complete_binary_tree.png)\n",
    "\n",
    "A complete binary tree:\n",
    "\n",
    "![png](trees_and_graphs_files/04_complete_binary_tree.png)"
   ]
  },
  {
   "cell_type": "markdown",
   "metadata": {},
   "source": [
    "#### Full Binary Trees\n",
    "\n",
    "A full binary tree is a binary tree in which every node has either zero or two children. That is, no nodes have only one child.\n",
    "\n",
    "Not a full binary tree:\n",
    "\n",
    "![png](trees_and_graphs_files/05_not_full_binary_tree.png)\n",
    "\n",
    "A full binary tree:\n",
    "\n",
    "![png](trees_and_graphs_files/06_full_binary_tree.png)"
   ]
  },
  {
   "cell_type": "markdown",
   "metadata": {},
   "source": [
    "#### Perfect Binary Trees\n",
    "\n",
    "A perfect binary tree is one that is both full and complete. All leaf nodes will be at the same level, and the level has the maximum number of nodes.\n",
    "\n",
    "![png](trees_and_graphs_files/07_perfect_binary_tree.png)\n",
    "\n",
    "Note that perfect trees are rare, as a perfect tree must have exactly $2^k - 1$ nodes (where $k$ is the number of levels).\n"
   ]
  },
  {
   "cell_type": "markdown",
   "metadata": {},
   "source": [
    "### Binary Tree Traversal\n",
    "\n",
    "#### In-Order Traversal\n",
    "\n",
    "In-order traversal means to \"visit\" (often, print) the left branch, then the current node, then the right branch.\n",
    "\n",
    "```python\n",
    "def in_order_traversal(node):\n",
    "  if node is not None:\n",
    "    in_order_traversal(node.left)\n",
    "    visit(node)\n",
    "    in_order_traversal(node.right)\n",
    "```\n",
    "\n",
    "When performed on a binary search tree, it visits the nodes in ascending order (hence the name \"in-order\").\n",
    "\n",
    "#### Pre-Order Traversal\n",
    "\n",
    "Pre-order traversal visits the current node before its child nodes (hence the name \"pre-order\").\n",
    "\n",
    "```python\n",
    "def in_order_traversal(node):\n",
    "  if node is not None:\n",
    "    visit(node)\n",
    "    in_order_traversal(node.left)\n",
    "    in_order_traversal(node.right)\n",
    "```\n",
    "\n",
    "In a pre-order traversal, the root is always the first node visited.\n",
    "\n",
    "#### Post-Order Traversal\n",
    "\n",
    "Post-order traversal visits the current node after its child nodes (hence the name \"post-order\").\n",
    "\n",
    "```python\n",
    "def in_order_traversal(node):\n",
    "  if node is not None:\n",
    "    in_order_traversal(node.left)\n",
    "    in_order_traversal(node.right)\n",
    "    visit(node)\n",
    "```\n",
    "\n",
    "In a post-order traversal, the root is always the last node visited."
   ]
  },
  {
   "cell_type": "markdown",
   "metadata": {},
   "source": [
    "### Binary Heaps (Min-Heaps and Max-Heaps)\n",
    "\n",
    "We'll only discuss min-heaps here. Max-heaps are essentially equivalent, but the elements are in descending order rather than ascending order.\n",
    "\n",
    "A min-heap is a _complete_ binary tree (that is, totally filled other than the rightmost elements on the last level) where each node is smaller than its children. The root, therefore, it the minimum element in the tree.\n",
    "\n",
    "For example:\n",
    "\n",
    "![png](trees_and_graphs_files/08_min_heap.png)\n",
    "\n",
    "We have two key operations on a min-heap: `insert` and `extract_min`.\n",
    "\n",
    "`Insert`\n",
    "\n",
    "When we insert into a min-heap, we always start by inserting the element at the bottom. We insert at the rightmost spot so as to maintain the complete tree property.\n",
    "\n",
    "Then, we \"fix\" the tree by swapping the new element with its parent, until we find an appropriate spot for the element. We essentially bubble up the minimum element.\n",
    "\n",
    "- Step 1: Insert 2\n",
    "\n",
    "![png](trees_and_graphs_files/09_min_heap_insert_1.png)\n",
    "\n",
    "- Step 2: Swap 2 and 7\n",
    "\n",
    "![png](trees_and_graphs_files/10_min_heap_insert_2.png)\n",
    "\n",
    "- Step 3: Swap 2 and 4\n",
    "\n",
    "![png](trees_and_graphs_files/11_min_heap_insert_3.png)\n",
    "\n",
    "This take `O(log n)` time, where `n` is the number of nodes in the heap.\n",
    "\n",
    "`Extract Minimum Element`\n",
    "\n",
    "Finding the minimum element of a min-heap is easy: it's always at the top. The trickier part is how to remove it (in fact, this isn't that tricky).\n",
    "\n",
    "First, we remove the minimum element and swap it with the last element in the heap (the bottommost rightnost element). Then, we bubble down this element, swapping it with one of its children until the min-heap property is restored.\n",
    "\n",
    "Do we swap it with the left child or the right child? This depends on their values. There's no inherent ordering between the left and right element, but you'll need to take the smaller one in order to maintain the min-heap ordering.\n",
    "\n",
    "- Step 1: Replace min with 80\n",
    "\n",
    "![png](trees_and_graphs_files/12_min_heap_remove_min_1.png)\n",
    "\n",
    "- Step 2: Swap 23 and 80\n",
    "\n",
    "![png](trees_and_graphs_files/13_min_heap_remove_min_2.png)\n",
    "\n",
    "- Step 3: Swap 32 and 80\n",
    "\n",
    "![png](trees_and_graphs_files/14_min_heap_remove_min_3.png)\n",
    "\n",
    "This algorithm will take `O(log n)` time."
   ]
  },
  {
   "cell_type": "markdown",
   "metadata": {},
   "source": [
    "### Tries (Prefix Trees)\n",
    "\n",
    "A trie (sometimes called a prefix tree) is a funny data structure. A trie is a variant of an n-ary tree in which characters are stored at each node. Each path down the tree may represent a word.\n",
    "\n",
    "The `*` nodes (sometimes called \"null nodes\") are often used to indicate complete words. For example, the fact that there is a `*` node under `MANY` indicates that `MANY` is a complete word. The existence of the `MA` path indicates there are words that start with `MA`.\n",
    "\n",
    "The actual implementation of these `*` nodes might be a special type of child (such as a `TerminatingTrieNode`, which inherits from `TrieNode`). Or, we could use just a boolean flat `terminates` within the \"parent\" node.\n",
    "\n",
    "A node in a trie could have anywhere from `0` to `ALPHABET_SIZE + 1` children.\n",
    "\n",
    "![png](trees_and_graphs_files/15_prefix_trees.png)\n",
    "\n",
    "Very commonly, a trie us used to store the entire (English) language for quick prefix lookups. While a hash table can quickly look up where a string is a valid word, it cannot tell us if a string is a prefix of any valid words. A trie can do this very quickly.\n",
    "\n",
    "How quickly? A trie can check is a string is a valid prefix in `O(K)` time, where `K` is the length of the string. This is actually the same runtime as a hash table will take. Although we often refer to has table lookups as being `O(1)` time, this isn't entirely true. A hash table must read through all the characters in the input, which take `O(K)` time in the case of a word lookup.\n",
    "\n",
    "Many problems involving lists of valid words leverage a trie as an optimization. In situations when we search through the tree on related prefixes repeatedly (e.g., looking up `M`, then `MA`, then `MAN`, the `MANY`), we might pass around a reference to the current node in the tree. This will allow us to just check if `Y` is a child of `MAN`, rather than starting from the root each time."
   ]
  },
  {
   "cell_type": "markdown",
   "metadata": {},
   "source": [
    "## Graphs\n",
    "TODO"
   ]
  },
  {
   "cell_type": "code",
   "execution_count": 5,
   "metadata": {},
   "outputs": [
    {
     "name": "stdout",
     "output_type": "stream",
     "text": [
      "[NbConvertApp] Converting notebook ./trees_and_graphs.ipynb to markdown\n",
      "[NbConvertApp] Writing 9001 bytes to trees_and_graphs.md\n"
     ]
    }
   ],
   "source": [
    "def create_md_of_notebook():\n",
    "    !jupyter nbconvert ./trees_and_graphs.ipynb --to markdown\n",
    "\n",
    "create_md_of_notebook()"
   ]
  },
  {
   "cell_type": "code",
   "execution_count": null,
   "metadata": {},
   "outputs": [],
   "source": []
  }
 ],
 "metadata": {
  "kernelspec": {
   "display_name": "Python 3.10.4 ('articles')",
   "language": "python",
   "name": "python3"
  },
  "language_info": {
   "codemirror_mode": {
    "name": "ipython",
    "version": 3
   },
   "file_extension": ".py",
   "mimetype": "text/x-python",
   "name": "python",
   "nbconvert_exporter": "python",
   "pygments_lexer": "ipython3",
   "version": "3.10.4"
  },
  "orig_nbformat": 4,
  "vscode": {
   "interpreter": {
    "hash": "f79b786778e7e03368a04228457666598692b04fa857319f42c891afa923c595"
   }
  }
 },
 "nbformat": 4,
 "nbformat_minor": 2
}
