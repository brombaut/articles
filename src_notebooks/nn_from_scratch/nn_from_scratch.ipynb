{
 "cells": [
  {
   "attachments": {},
   "cell_type": "markdown",
   "metadata": {},
   "source": [
    "# Simple MNIST Neural Net from scratch\n",
    "Here we implemented a simple two-layer neural network and trained it on the MNIST digit recognizer dataset. It's meant to be an instructional example, through which you can understand the underlying math of neural networks better."
   ]
  },
  {
   "cell_type": "code",
   "execution_count": 1,
   "metadata": {},
   "outputs": [
    {
     "name": "stderr",
     "output_type": "stream",
     "text": [
      "/Users/BenRombaut/opt/anaconda3/envs/nn_from_scratch/lib/python3.10/site-packages/scipy/__init__.py:146: UserWarning: A NumPy version >=1.16.5 and <1.23.0 is required for this version of SciPy (detected version 1.23.5\n",
      "  warnings.warn(f\"A NumPy version >={np_minversion} and <{np_maxversion}\"\n"
     ]
    }
   ],
   "source": [
    "import numpy as np\n",
    "import pandas as pd\n",
    "from matplotlib import pyplot as plt\n",
    "from sklearn.datasets import fetch_openml"
   ]
  },
  {
   "attachments": {},
   "cell_type": "markdown",
   "metadata": {},
   "source": [
    "Get the dataset\n",
    "\n",
    "Once you download and save the dataset, you can just reload them using the commented code"
   ]
  },
  {
   "cell_type": "code",
   "execution_count": 2,
   "metadata": {},
   "outputs": [],
   "source": [
    "mnist = fetch_openml(\"mnist_784\", version=1)\n",
    "mnist['data'].to_csv('./mnist_data.csv')\n",
    "mnist['target'].to_csv('./mnist_target.csv')\n",
    "mnist.keys()\n",
    "\n",
    "# mnist = dict()\n",
    "# mnist['data'] = pd.read_csv('./mnist_data.csv', index_col=0)\n",
    "# mnist['target'] = pd.read_csv('./mnist_target.csv', index_col=0).squeeze('columns')"
   ]
  },
  {
   "attachments": {},
   "cell_type": "markdown",
   "metadata": {},
   "source": [
    "Preprocess the data so it's in a format we want (Numpy arrays) and shuffle into dev and train sets"
   ]
  },
  {
   "cell_type": "code",
   "execution_count": 3,
   "metadata": {},
   "outputs": [
    {
     "name": "stdout",
     "output_type": "stream",
     "text": [
      "[8 1 9 ... 8 3 9]\n",
      "(784,)\n"
     ]
    }
   ],
   "source": [
    "data, target = mnist[\"data\"].to_numpy(), mnist[\"target\"].to_numpy()\n",
    "target = target.astype(np.uint8)\n",
    "data = np.c_[target, data]\n",
    "data = data.astype(np.uint8)\n",
    "\n",
    "m, n = data.shape\n",
    "np.random.shuffle(data)\n",
    "\n",
    "data_dev = data[0:1000].T\n",
    "Y_dev = data_dev[0]\n",
    "X_dev = data_dev[1:n]\n",
    "X_dev = X_dev / 255.\n",
    "\n",
    "data_train = data[1000:m].T\n",
    "Y_train = data_train[0]\n",
    "X_train = data_train[1:n]\n",
    "X_train = X_train / 255.\n",
    "_, m_train = X_train.shape\n",
    "\n",
    "print(Y_train)\n",
    "print(X_train[:, 0].shape)"
   ]
  },
  {
   "attachments": {},
   "cell_type": "markdown",
   "metadata": {},
   "source": [
    "Our NN will have a simple two-layer architecture. Input layer $a^{[0]}$ will have 784 units corresponding to the 784 pixels in each 28x28 input image. A hidden layer $a^{[1]}$ will have 10 units with ReLU activation, and finally our output layer $a^{[2]}$ will have 10 units corresponding to the ten digit classes with softmax activation.\n",
    "\n",
    "**Forward propagation**\n",
    "\n",
    "$$Z^{[1]} = W^{[1]} X + b^{[1]}$$\n",
    "$$A^{[1]} = g_{\\text{ReLU}}(Z^{[1]}))$$\n",
    "$$Z^{[2]} = W^{[2]} A^{[1]} + b^{[2]}$$\n",
    "$$A^{[2]} = g_{\\text{softmax}}(Z^{[2]})$$\n",
    "\n",
    "**Backward propagation**\n",
    "\n",
    "$$dZ^{[2]} = A^{[2]} - Y$$\n",
    "$$dW^{[2]} = \\frac{1}{m} dZ^{[2]} A^{[1]T}$$\n",
    "$$dB^{[2]} = \\frac{1}{m} \\Sigma {dZ^{[2]}}$$\n",
    "$$dZ^{[1]} = W^{[2]T} dZ^{[2]} .* g^{[1]\\prime} (z^{[1]})$$\n",
    "$$dW^{[1]} = \\frac{1}{m} dZ^{[1]} A^{[0]T}$$\n",
    "$$dB^{[1]} = \\frac{1}{m} \\Sigma {dZ^{[1]}}$$\n",
    "\n",
    "**Parameter updates**\n",
    "\n",
    "$$W^{[2]} := W^{[2]} - \\alpha dW^{[2]}$$\n",
    "$$b^{[2]} := b^{[2]} - \\alpha db^{[2]}$$\n",
    "$$W^{[1]} := W^{[1]} - \\alpha dW^{[1]}$$\n",
    "$$b^{[1]} := b^{[1]} - \\alpha db^{[1]}$$\n",
    "\n",
    "**Vars and shapes**\n",
    "\n",
    "Forward prop\n",
    "\n",
    "- $A^{[0]} = X$: 784 x m\n",
    "- $Z^{[1]} \\sim A^{[1]}$: 10 x m\n",
    "- $W^{[1]}$: 10 x 784 (as $W^{[1]} A^{[0]} \\sim Z^{[1]}$)\n",
    "- $B^{[1]}$: 10 x 1\n",
    "- $Z^{[2]} \\sim A^{[2]}$: 10 x m\n",
    "- $W^{[1]}$: 10 x 10 (as $W^{[2]} A^{[1]} \\sim Z^{[2]}$)\n",
    "- $B^{[2]}$: 10 x 1\n",
    "\n",
    "Backprop\n",
    "\n",
    "- $dZ^{[2]}$: 10 x m ($~A^{[2]}$)\n",
    "- $dW^{[2]}$: 10 x 10\n",
    "- $dB^{[2]}$: 10 x 1\n",
    "- $dZ^{[1]}$: 10 x m ($~A^{[1]}$)\n",
    "- $dW^{[1]}$: 10 x 10\n",
    "- $dB^{[1]}$: 10 x 1"
   ]
  },
  {
   "cell_type": "code",
   "execution_count": 4,
   "metadata": {},
   "outputs": [],
   "source": [
    "def init_params():\n",
    "    W1 = np.random.rand(10, 784) - 0.5\n",
    "    b1 = np.random.rand(10, 1) - 0.5\n",
    "    W2 = np.random.rand(10, 10) - 0.5\n",
    "    b2 = np.random.rand(10, 1) - 0.5\n",
    "    return W1, b1, W2, b2\n",
    "\n",
    "def ReLU(Z):\n",
    "    return np.maximum(Z, 0)\n",
    "\n",
    "def softmax(Z):\n",
    "    A = np.exp(Z) / sum(np.exp(Z))\n",
    "    return A\n",
    "\n",
    "def forward_prop(W1, b1, W2, b2, X):\n",
    "    Z1 = W1.dot(X) + b1\n",
    "    A1 = ReLU(Z1)\n",
    "    Z2 = W2.dot(A1) + b2\n",
    "    A2 = softmax(Z2)\n",
    "    return Z1, A1, Z2, A2\n",
    "\n",
    "def ReLU_deriv(Z):\n",
    "    # If Z > 0, return 1, which is the slope of the line.\n",
    "    # Else return 0 (which is still the slope, but recall that values less than 0 are 0)\n",
    "    return Z > 0\n",
    "\n",
    "def one_hot(Y):\n",
    "    one_hot_Y = np.zeros((Y.size, Y.max() + 1))\n",
    "    one_hot_Y[np.arange(Y.size), Y] = 1\n",
    "    one_hot_Y = one_hot_Y.T\n",
    "    return one_hot_Y\n",
    "\n",
    "def back_prop(Z1, A1, Z2, A2, W2, X, Y):\n",
    "    # m = Y.size\n",
    "    one_hot_Y = one_hot(Y)\n",
    "    dZ2 = A2 - one_hot_Y\n",
    "    dW2 = 1 / m * dZ2.dot(A1.T)\n",
    "    db2 = 1 / m * np.sum(dZ2)\n",
    "    dZ1 = W2.T.dot(dZ2) * ReLU_deriv(Z1)\n",
    "    dW1 = 1 / m * dZ1.dot(X.T)\n",
    "    db1 = 1 / m * np.sum(dZ1)\n",
    "    return dW1, db1, dW2, db2\n",
    "\n",
    "def update_params(W1, b1, W2, b2, dW1, db1, dW2, db2, alpha):\n",
    "    W1 = W1 - alpha * dW1\n",
    "    b1 = b1 - alpha * db1\n",
    "    W2 = W2 - alpha * dW2\n",
    "    b2 = b2 - alpha * db2\n",
    "    return W1, b1, W2, b2"
   ]
  },
  {
   "cell_type": "code",
   "execution_count": 5,
   "metadata": {},
   "outputs": [],
   "source": [
    "def get_predictions(A2):\n",
    "    return np.argmax(A2, 0)\n",
    "\n",
    "def get_accuracy(predictions, Y):\n",
    "    print(predictions, Y)\n",
    "    return np.sum(predictions == Y) / Y.size\n",
    "\n",
    "def gradient_descnet(X, Y, iterations, alpha):\n",
    "    W1, b1, W2, b2 = init_params()\n",
    "    for i in range(iterations):\n",
    "        Z1, A1, Z2, A2 = forward_prop(W1, b1, W2, b2, X)\n",
    "        dW1, db1, dW2, db2 = back_prop(Z1, A1, Z2, A2, W2, X, Y)\n",
    "        W1, b1, W2, b2 = update_params(W1, b1, W2, b2, dW1, db1, dW2, db2, alpha)\n",
    "        if i % 50 == 0:\n",
    "            print(f\"Iteration: {i}\")\n",
    "            predictions = get_predictions(A2)\n",
    "            print(f\"Accuracy: {get_accuracy(predictions, Y)}\")\n",
    "    return W1, b1, W2, b2"
   ]
  },
  {
   "cell_type": "code",
   "execution_count": 7,
   "metadata": {},
   "outputs": [
    {
     "name": "stdout",
     "output_type": "stream",
     "text": [
      "Iteration: 0\n",
      "[5 1 8 ... 1 1 8] [8 1 9 ... 8 3 9]\n",
      "Accuracy: 0.10685507246376812\n",
      "Iteration: 50\n",
      "[4 1 9 ... 1 3 7] [8 1 9 ... 8 3 9]\n",
      "Accuracy: 0.4947536231884058\n",
      "Iteration: 100\n",
      "[4 1 9 ... 1 3 9] [8 1 9 ... 8 3 9]\n",
      "Accuracy: 0.6599855072463768\n",
      "Iteration: 150\n",
      "[8 1 9 ... 1 3 9] [8 1 9 ... 8 3 9]\n",
      "Accuracy: 0.7343188405797102\n",
      "Iteration: 200\n",
      "[8 1 9 ... 3 3 9] [8 1 9 ... 8 3 9]\n",
      "Accuracy: 0.7734927536231884\n",
      "Iteration: 250\n",
      "[8 3 9 ... 8 3 9] [8 1 9 ... 8 3 9]\n",
      "Accuracy: 0.7977826086956522\n",
      "Iteration: 300\n",
      "[8 3 9 ... 8 3 9] [8 1 9 ... 8 3 9]\n",
      "Accuracy: 0.8144492753623188\n",
      "Iteration: 350\n",
      "[8 8 9 ... 8 3 9] [8 1 9 ... 8 3 9]\n",
      "Accuracy: 0.8259565217391305\n",
      "Iteration: 400\n",
      "[8 8 9 ... 8 3 9] [8 1 9 ... 8 3 9]\n",
      "Accuracy: 0.8347536231884058\n",
      "Iteration: 450\n",
      "[8 1 9 ... 8 3 9] [8 1 9 ... 8 3 9]\n",
      "Accuracy: 0.8427101449275363\n"
     ]
    }
   ],
   "source": [
    "W1, b1, W2, b2 = gradient_descnet(X_train, Y_train, 500, 0.1)"
   ]
  },
  {
   "attachments": {},
   "cell_type": "markdown",
   "metadata": {},
   "source": [
    "~85% accuracy on training set"
   ]
  },
  {
   "cell_type": "code",
   "execution_count": 8,
   "metadata": {},
   "outputs": [],
   "source": [
    "def make_predictions(X, W1, b1, W2, b2):\n",
    "    _, _, _, A2 = forward_prop(W1, b1, W2, b2, X)\n",
    "    predictions = get_predictions(A2)\n",
    "    return predictions\n",
    "\n",
    "def test_prediction(index, W1, b1, W2, b2):\n",
    "    current_image = X_train[:, index, None]\n",
    "    prediction = make_predictions(X_train[:, index, None], W1, b1, W2, b2)\n",
    "    label = Y_train[index]\n",
    "    print(\"Prediction: \", prediction)\n",
    "    print(\"Label: \", label)\n",
    "    \n",
    "    current_image = current_image.reshape((28, 28)) * 255\n",
    "    plt.gray()\n",
    "    plt.imshow(current_image, interpolation='nearest')\n",
    "    plt.show()"
   ]
  },
  {
   "attachments": {},
   "cell_type": "markdown",
   "metadata": {},
   "source": [
    "Let's look at a couple of examples:"
   ]
  },
  {
   "cell_type": "code",
   "execution_count": 9,
   "metadata": {},
   "outputs": [
    {
     "name": "stdout",
     "output_type": "stream",
     "text": [
      "Prediction:  [8]\n",
      "Label:  8\n"
     ]
    },
    {
     "data": {
      "image/png": "[encoded data removed]",
      "text/plain": [
       "<Figure size 640x480 with 1 Axes>"
      ]
     },
     "metadata": {},
     "output_type": "display_data"
    },
    {
     "name": "stdout",
     "output_type": "stream",
     "text": [
      "Prediction:  [1]\n",
      "Label:  1\n"
     ]
    },
    {
     "data": {
      "image/png": "[encoded data removed]",
      "text/plain": [
       "<Figure size 640x480 with 1 Axes>"
      ]
     },
     "metadata": {},
     "output_type": "display_data"
    },
    {
     "name": "stdout",
     "output_type": "stream",
     "text": [
      "Prediction:  [9]\n",
      "Label:  9\n"
     ]
    },
    {
     "data": {
      "image/png": "[encoded data removed]",
      "text/plain": [
       "<Figure size 640x480 with 1 Axes>"
      ]
     },
     "metadata": {},
     "output_type": "display_data"
    },
    {
     "name": "stdout",
     "output_type": "stream",
     "text": [
      "Prediction:  [1]\n",
      "Label:  1\n"
     ]
    },
    {
     "data": {
      "image/png": "[encoded data removed]",
      "text/plain": [
       "<Figure size 640x480 with 1 Axes>"
      ]
     },
     "metadata": {},
     "output_type": "display_data"
    }
   ],
   "source": [
    "test_prediction(0, W1, b1, W2, b2)\n",
    "test_prediction(1, W1, b1, W2, b2)\n",
    "test_prediction(2, W1, b1, W2, b2)\n",
    "test_prediction(3, W1, b1, W2, b2)"
   ]
  },
  {
   "attachments": {},
   "cell_type": "markdown",
   "metadata": {},
   "source": [
    "Finally, let's find the accuracy on the dev set:"
   ]
  },
  {
   "cell_type": "code",
   "execution_count": 10,
   "metadata": {},
   "outputs": [
    {
     "name": "stdout",
     "output_type": "stream",
     "text": [
      "[7 3 1 4 8 6 6 2 4 4 8 7 9 4 5 2 8 1 2 1 9 3 5 2 1 1 0 7 0 9 9 8 8 2 1 5 4\n",
      " 3 1 7 9 2 6 7 4 6 1 6 6 3 0 7 5 0 5 7 1 8 8 5 8 3 6 5 5 7 3 6 6 2 1 5 5 4\n",
      " 6 9 1 8 1 3 7 6 5 9 9 6 1 9 0 4 7 4 9 1 3 5 8 8 0 7 5 7 1 9 4 5 7 6 1 8 4\n",
      " 5 0 3 1 6 1 6 3 4 4 0 7 6 1 1 3 5 8 7 3 6 2 0 0 6 1 8 4 3 4 4 4 2 0 0 0 8\n",
      " 5 4 6 0 6 5 7 7 4 4 3 4 1 3 4 7 9 3 1 7 5 7 5 4 6 1 6 9 7 6 2 2 2 8 1 3 3\n",
      " 6 3 7 5 6 7 8 2 7 9 5 3 2 2 5 6 9 9 6 1 2 8 8 4 0 0 5 9 8 9 1 3 1 1 5 0 2\n",
      " 7 2 3 8 6 9 2 1 0 6 0 0 6 0 2 8 1 1 4 7 4 4 9 1 4 2 0 4 4 1 0 3 8 3 5 0 5\n",
      " 4 1 3 7 9 5 1 3 7 5 0 2 3 5 6 5 7 9 5 3 8 5 8 8 8 9 3 6 3 4 4 4 4 6 5 6 4\n",
      " 9 1 5 1 1 1 6 9 0 4 4 1 3 6 5 3 1 1 6 0 4 4 1 4 0 1 9 6 3 6 9 4 9 9 3 3 3\n",
      " 7 4 9 1 7 8 9 5 5 1 8 1 8 1 3 4 1 2 7 5 9 0 3 8 5 0 1 1 1 5 0 0 1 0 2 5 0\n",
      " 4 4 1 7 8 4 5 7 5 3 3 3 2 5 6 4 3 8 0 9 3 6 8 6 1 3 6 9 0 8 3 8 3 2 0 2 8\n",
      " 1 0 2 8 8 1 0 0 3 7 1 3 8 1 4 6 4 1 4 0 2 3 7 1 1 8 7 5 8 1 8 3 4 6 5 0 4\n",
      " 9 0 0 6 1 3 2 5 3 9 7 9 5 9 7 8 5 9 5 3 9 8 6 1 2 9 8 9 5 5 2 9 1 7 2 1 4\n",
      " 3 9 7 1 0 9 3 2 0 7 5 4 1 8 8 9 7 7 0 9 6 2 3 0 1 1 9 0 1 6 8 8 2 6 1 3 2\n",
      " 2 7 0 2 5 3 3 2 1 7 0 5 3 0 0 9 8 8 5 7 2 2 9 9 1 6 0 5 7 2 8 2 0 5 8 0 8\n",
      " 8 3 4 1 9 2 1 9 2 0 5 9 1 0 2 5 6 0 3 1 5 6 2 7 1 3 8 3 1 8 5 6 3 8 4 6 9\n",
      " 7 4 1 0 0 8 4 1 1 1 0 3 0 5 7 8 4 2 5 2 7 5 0 9 5 1 7 8 7 1 6 0 9 4 7 3 6\n",
      " 7 9 4 6 5 2 7 9 6 4 4 8 1 6 3 2 8 9 4 4 3 7 5 3 3 9 1 8 7 1 6 8 6 6 5 7 9\n",
      " 6 6 6 4 5 6 5 7 5 2 0 4 7 1 2 6 5 2 3 0 1 0 4 1 2 8 7 1 3 1 1 3 8 3 6 0 5\n",
      " 0 5 7 2 0 0 7 8 7 1 3 4 4 4 4 3 7 5 9 2 2 9 6 3 4 4 0 8 5 3 1 2 6 7 1 8 5\n",
      " 0 2 7 4 4 5 7 5 0 6 7 7 4 2 8 6 0 6 1 0 9 6 3 0 5 8 2 5 4 0 9 5 4 4 8 3 0\n",
      " 0 9 7 9 1 9 0 1 4 9 9 3 4 4 6 1 4 5 6 2 8 9 4 2 7 0 1 3 9 2 2 0 2 6 9 9 9\n",
      " 6 4 2 1 5 9 2 5 3 9 2 1 1 9 9 2 8 5 6 3 5 5 5 4 2 4 6 6 6 8 8 4 2 3 8 5 9\n",
      " 3 9 7 6 6 8 6 4 2 1 1 7 4 0 7 9 8 2 1 3 4 7 1 3 7 2 4 0 7 8 7 8 2 0 1 5 9\n",
      " 9 6 4 6 1 9 5 6 4 0 8 7 2 4 3 3 6 9 0 1 2 4 2 1 5 0 0 4 9 0 0 7 2 3 8 6 2\n",
      " 1 1 6 9 3 9 5 2 4 0 2 3 0 4 4 5 3 2 1 0 1 1 0 9 6 3 8 2 3 6 7 4 5 3 6 0 6\n",
      " 8 1 5 0 1 8 3 2 1 3 4 9 2 1 0 3 8 6 5 6 2 9 0 2 1 6 0 5 1 8 7 2 7 1 2 4 3\n",
      " 3] [9 3 1 9 8 6 6 2 4 4 5 7 7 4 5 6 4 1 2 1 9 3 5 2 8 1 0 7 0 5 4 8 8 2 1 5 4\n",
      " 3 1 7 4 2 6 4 4 6 1 6 6 3 0 7 5 0 5 9 1 8 8 5 8 3 5 5 5 7 3 6 6 2 1 5 8 4\n",
      " 6 7 1 8 1 3 7 6 5 9 9 6 1 9 0 6 5 4 9 1 3 5 8 8 0 7 5 7 6 9 4 8 7 5 5 8 4\n",
      " 2 0 3 1 6 1 6 3 4 4 0 9 6 1 1 3 0 8 7 3 6 2 0 0 6 1 8 4 3 2 4 6 2 0 0 0 8\n",
      " 5 4 6 6 6 5 7 7 4 4 3 4 3 3 4 7 9 3 1 7 7 7 5 9 6 1 6 4 7 6 2 2 2 1 1 3 3\n",
      " 6 3 7 5 6 7 8 2 9 9 5 3 2 2 5 6 4 7 6 1 8 9 8 9 0 0 5 4 4 9 1 3 1 1 5 0 2\n",
      " 7 2 3 8 6 9 3 1 0 6 0 0 6 0 2 8 1 1 9 7 4 4 9 1 4 3 0 4 9 1 2 5 8 3 5 0 5\n",
      " 4 1 3 7 9 5 1 3 7 5 6 2 5 5 6 8 7 9 8 3 8 5 8 8 8 4 3 5 3 4 4 4 9 6 5 6 4\n",
      " 9 1 5 1 1 1 6 9 0 4 4 1 3 6 5 3 1 1 6 0 4 4 1 4 0 1 9 6 3 6 0 4 9 9 3 5 2\n",
      " 7 4 9 1 7 8 9 5 3 1 1 1 8 1 3 2 1 2 7 5 9 0 3 8 5 0 1 1 1 5 0 0 1 0 2 5 0\n",
      " 4 4 1 7 2 4 5 7 0 3 3 3 2 3 6 4 0 8 0 4 3 6 8 6 1 3 6 9 0 8 3 1 3 0 0 2 8\n",
      " 1 0 2 8 8 1 0 0 3 7 8 3 8 2 4 5 4 1 4 0 2 3 7 1 1 9 7 0 1 1 8 3 4 6 5 0 4\n",
      " 9 0 0 6 1 2 2 5 3 7 7 2 5 7 7 9 5 9 5 5 9 5 6 1 2 9 8 9 5 5 2 5 1 9 6 1 4\n",
      " 9 2 9 1 0 8 3 2 8 7 5 4 1 8 8 9 7 7 0 9 6 2 5 0 1 1 8 0 1 6 8 4 2 6 1 3 2\n",
      " 2 7 0 2 5 3 3 2 1 0 0 5 3 0 0 9 8 2 4 7 2 4 9 9 1 6 0 5 7 2 8 2 0 0 8 0 8\n",
      " 8 8 4 8 9 2 1 4 2 0 5 9 1 0 2 5 6 0 3 1 3 6 2 9 1 3 3 3 1 8 5 6 3 8 4 5 7\n",
      " 7 4 1 0 0 8 4 1 1 1 0 3 0 5 2 8 4 2 5 2 7 5 0 9 5 1 7 8 7 7 6 0 9 4 7 3 6\n",
      " 7 2 4 6 5 2 7 9 6 4 4 8 1 6 7 2 8 9 5 4 3 9 5 3 3 9 1 8 7 2 6 8 6 6 5 7 9\n",
      " 6 6 6 4 5 6 5 7 3 2 0 4 7 1 2 6 5 2 3 0 1 0 4 1 3 8 7 1 9 1 1 3 8 3 6 0 5\n",
      " 0 8 7 2 0 0 7 8 7 1 3 4 4 9 4 3 7 5 9 2 3 9 6 3 4 4 0 2 5 3 1 2 6 9 1 9 5\n",
      " 0 2 7 4 4 3 7 5 0 6 7 7 4 2 8 6 0 6 1 0 9 6 3 9 5 3 2 5 4 0 9 8 4 4 8 3 0\n",
      " 0 4 7 8 1 8 5 1 9 9 9 3 4 4 2 1 4 8 6 3 8 9 4 2 7 0 1 3 9 2 2 0 2 6 9 9 9\n",
      " 0 4 2 1 5 3 2 5 3 9 2 1 7 9 4 2 8 5 6 3 5 5 7 4 2 9 5 6 6 8 8 9 2 3 8 5 4\n",
      " 3 4 7 6 6 8 6 4 2 1 1 9 4 0 9 9 8 3 1 3 9 7 8 3 7 2 4 0 7 8 7 8 2 0 1 5 9\n",
      " 9 6 4 6 1 9 5 5 4 0 8 7 2 4 3 2 6 5 6 1 2 4 2 1 5 0 0 9 9 2 0 7 2 2 8 6 2\n",
      " 1 1 6 7 8 9 4 8 4 0 2 3 0 4 9 5 3 2 1 0 1 1 0 9 6 3 8 2 3 6 7 4 5 3 6 0 6\n",
      " 5 1 5 0 1 8 3 2 1 3 4 9 2 1 0 3 8 6 3 6 3 9 0 2 1 8 0 5 1 8 9 3 5 1 2 7 5\n",
      " 3]\n"
     ]
    },
    {
     "data": {
      "text/plain": [
       "0.833"
      ]
     },
     "execution_count": 10,
     "metadata": {},
     "output_type": "execute_result"
    }
   ],
   "source": [
    "dev_predictions = make_predictions(X_dev, W1, b1, W2, b2)\n",
    "get_accuracy(dev_predictions, Y_dev)"
   ]
  },
  {
   "cell_type": "markdown",
   "metadata": {},
   "source": [
    "Still 83% accuracy, so our model generalized from the training data pretty well."
   ]
  },
  {
   "cell_type": "markdown",
   "metadata": {},
   "source": []
  }
 ],
 "metadata": {
  "kernelspec": {
   "display_name": "nn_from_scratch",
   "language": "python",
   "name": "python3"
  },
  "language_info": {
   "codemirror_mode": {
    "name": "ipython",
    "version": 3
   },
   "file_extension": ".py",
   "mimetype": "text/x-python",
   "name": "python",
   "nbconvert_exporter": "python",
   "pygments_lexer": "ipython3",
   "version": "3.10.9"
  },
  "orig_nbformat": 4,
  "vscode": {
   "interpreter": {
    "hash": "eab36a8cc3387c6d58e9509b05701365b4bcbd604781db92a0dd75fcdc19956c"
   }
  }
 },
 "nbformat": 4,
 "nbformat_minor": 2
}
